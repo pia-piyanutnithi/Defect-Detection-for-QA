{
 "cells": [
  {
   "cell_type": "code",
   "execution_count": 1,
   "id": "c40a4b16",
   "metadata": {},
   "outputs": [],
   "source": [
    "# import library\n",
    "import os\n",
    "import cv2\n",
    "import numpy as np\n",
    "from sklearn.model_selection import train_test_split\n",
    "from tensorflow.keras.preprocessing.image import ImageDataGenerator\n",
    "import tensorflow as tf\n",
    "from tensorflow.keras import layers, models"
   ]
  },
  {
   "cell_type": "code",
   "execution_count": 2,
   "id": "2e66e3c8",
   "metadata": {},
   "outputs": [],
   "source": [
    "# Step 1.0 Data Folder\n",
    "train_dir = '/Users/piyanutnithiworachai/Documents/Curtin/screw/train/good'\n",
    "test_dir = '/Users/piyanutnithiworachai/Documents/Curtin/screw/test'\n",
    "ground_truth_dir = '/Users/piyanutnithiworachai/Documents/Curtin/screw/ground_truth'"
   ]
  },
  {
   "cell_type": "code",
   "execution_count": 3,
   "id": "f790d392",
   "metadata": {},
   "outputs": [],
   "source": [
    "# Step 2.0 Data Preposessing\n",
    "def load_data(directory, label, convert_to_grayscale=True, normalize=True):\n",
    "    data = []\n",
    "    labels = []\n",
    "    for filename in os.listdir(directory):\n",
    "        if filename.endswith(\".png\"):  # assuming images are in PNG format\n",
    "            img_path = os.path.join(directory, filename)\n",
    "            img = cv2.imread(img_path)\n",
    "            img = cv2.cvtColor(img, cv2.COLOR_BGR2RGB)  # if using OpenCV, convert BGR to RGB\n",
    "            img = cv2.resize(img, (224, 224))  # adjust size according to your network input size\n",
    "            data.append(img)\n",
    "            labels.append(label)\n",
    "    return np.array(data), np.array(labels)\n",
    "\n",
    "\n",
    "# Load Good images from Train directory in grayscale and normalize\n",
    "good_data, good_labels = load_data(train_dir, label=0, convert_to_grayscale=True, normalize=True)\n",
    "\n",
    "# Load Defect images from Test directory in grayscale and normalize\n",
    "defect_data, defect_labels = [], []\n",
    "defect_folders = os.listdir(test_dir)\n",
    "for folder in defect_folders:\n",
    "    if folder.startswith(\"defect\"):\n",
    "        defect_folder_path = os.path.join(test_dir, folder)\n",
    "        defect_images, _ = load_data(defect_folder_path, label=1, convert_to_grayscale=True, normalize=True)\n",
    "        defect_data.extend(defect_images)\n",
    "        defect_labels.extend([1] * len(defect_images))\n",
    "\n",
    "\n"
   ]
  },
  {
   "cell_type": "code",
   "execution_count": 4,
   "id": "b3203856",
   "metadata": {},
   "outputs": [
    {
     "name": "stdout",
     "output_type": "stream",
     "text": [
      "Shape of good_data before manipulation: (320, 224, 224, 3)\n",
      "Shape of defect_data after manipulation: (119, 224, 224, 3)\n",
      "all_labels shape after combining labels: (439,)\n",
      "all_labels shape after combining labels: (439, 1)\n"
     ]
    }
   ],
   "source": [
    "# Step 3.0 label\n",
    "\n",
    "# Print shapes before any manipulation\n",
    "print(\"Shape of good_data before manipulation:\", good_data.shape)\n",
    "\n",
    "# Convert defect_data to a NumPy array\n",
    "defect_data = np.array(defect_data)\n",
    "\n",
    "# Print shapes after manipulation\n",
    "print(\"Shape of defect_data after manipulation:\", defect_data.shape)\n",
    "\n",
    "# Combine good and defect data before applying data augmentation\n",
    "all_data = np.concatenate([good_data, defect_data])\n",
    "\n",
    "# Combine labels\n",
    "all_labels = np.concatenate([np.zeros(len(good_data)), np.ones(len(defect_data))])\n",
    "\n",
    "# Print the shapes after combining labels\n",
    "print(\"all_labels shape after combining labels:\", all_labels.shape)\n",
    "\n",
    "# Ensure that the labels have the same number of dimensions as the data\n",
    "good_labels = np.expand_dims(good_labels, axis=1)\n",
    "defect_labels = np.expand_dims(defect_labels, axis=1)\n",
    "\n",
    "# Ensure that the labels are integers, not floats\n",
    "good_labels = good_labels.astype(int)\n",
    "defect_labels = defect_labels.astype(int)\n",
    "\n",
    "# Combine labels\n",
    "all_labels = np.concatenate([good_labels, defect_labels])\n",
    "\n",
    "# Print the shapes after combining labels\n",
    "print(\"all_labels shape after combining labels:\", all_labels.shape)"
   ]
  },
  {
   "cell_type": "code",
   "execution_count": 5,
   "id": "122ea349",
   "metadata": {},
   "outputs": [],
   "source": [
    "# Ensure good_data and defect_data have the same number of dimensions\n",
    "if len(good_data.shape) == 3:\n",
    "    good_data = np.expand_dims(good_data, axis=-1)  # Add channel dimension if it's missing\n",
    "\n",
    "if len(defect_data.shape) == 3:\n",
    "    defect_data = np.expand_dims(defect_data, axis=-1)  # Add channel dimension if it's missing\n"
   ]
  },
  {
   "cell_type": "code",
   "execution_count": 6,
   "id": "190ba635",
   "metadata": {},
   "outputs": [
    {
     "name": "stdout",
     "output_type": "stream",
     "text": [
      "Shape of good_data before manipulation: (320, 224, 224, 3)\n",
      "Shape of defect_data after manipulation: (119, 224, 224, 3)\n",
      "all_labels shape after combining labels: (439, 1)\n",
      "all_labels shape after combining labels: (439, 1)\n"
     ]
    }
   ],
   "source": [
    "# Print shapes before any manipulation\n",
    "print(\"Shape of good_data before manipulation:\", good_data.shape)\n",
    "# Print shapes after manipulation\n",
    "print(\"Shape of defect_data after manipulation:\", defect_data.shape)\n",
    "# Print the shapes after combining labels\n",
    "print(\"all_labels shape after combining labels:\", all_labels.shape)\n",
    "# Print the shapes after combining labels\n",
    "print(\"all_labels shape after combining labels:\", all_labels.shape)"
   ]
  },
  {
   "cell_type": "markdown",
   "id": "6d21c286",
   "metadata": {},
   "source": [
    "The CNN model is defined using the Sequential API from Keras.\n",
    "The model is compiled with the Adam optimizer and binary cross-entropy loss, suitable for binary classification.\n",
    "Data augmentation is applied during training using ImageDataGenerator to improve model generalization (you can adjust the augmentation parameters).\n",
    "The model is trained using the fit method, and the training data is obtained from the train_generator."
   ]
  },
  {
   "cell_type": "code",
   "execution_count": 7,
   "id": "8744dc72",
   "metadata": {},
   "outputs": [],
   "source": [
    "# Step 5.0 Split the data  \n",
    "# Split the data into train and test sets\n",
    "train_data, test_data, train_labels, test_labels = train_test_split(\n",
    "    all_data, all_labels, test_size=0.2, random_state=42\n",
    ")\n",
    "\n",
    "# Further split the training data into training and validation sets\n",
    "train_data, val_data, train_labels, val_labels = train_test_split(\n",
    "    train_data, train_labels, test_size=0.2, random_state=42\n",
    ")"
   ]
  },
  {
   "cell_type": "code",
   "execution_count": 8,
   "id": "0616d61c",
   "metadata": {},
   "outputs": [],
   "source": [
    "# Step 4.0 Create and compile the CNN model\n",
    "model = models.Sequential([\n",
    "    layers.Conv2D(32, (3, 3), activation='relu', input_shape=(224, 224, 3)),\n",
    "    layers.MaxPooling2D((2, 2)),\n",
    "    layers.Conv2D(64, (3, 3), activation='relu'),\n",
    "    layers.MaxPooling2D((2, 2)),\n",
    "    layers.Conv2D(128, (3, 3), activation='relu'),\n",
    "    layers.MaxPooling2D((2, 2)),\n",
    "    layers.Flatten(),\n",
    "    layers.Dense(128, activation='relu'),\n",
    "    layers.Dense(1, activation='sigmoid')  # binary classification\n",
    "])\n",
    "\n",
    "model.compile(optimizer='adam', loss='binary_crossentropy', metrics=['accuracy'])\n"
   ]
  },
  {
   "cell_type": "code",
   "execution_count": 9,
   "id": "416102e0",
   "metadata": {},
   "outputs": [],
   "source": [
    "\n",
    "\n",
    "# Ensure that the labels have the same number of dimensions as the data\n",
    "good_labels = np.expand_dims(good_labels, axis=1)\n",
    "defect_labels = np.expand_dims(defect_labels, axis=1)\n",
    "\n",
    "# Ensure that the labels are integers, not floats\n",
    "good_labels = good_labels.astype(int)\n",
    "defect_labels = defect_labels.astype(int)\n",
    "\n",
    "# Combine labels\n",
    "all_labels = np.concatenate([good_labels, defect_labels])\n",
    "\n",
    "# Ensure that the labels have the same number of dimensions as the data\n",
    "all_labels = np.expand_dims(all_labels, axis=1)\n",
    "\n",
    "# Ensure that the labels are integers, not floats\n",
    "all_labels = all_labels.astype(int)\n",
    "\n"
   ]
  },
  {
   "cell_type": "code",
   "execution_count": 15,
   "id": "053bb048",
   "metadata": {},
   "outputs": [
    {
     "name": "stdout",
     "output_type": "stream",
     "text": [
      "Shape of all_data: (439, 224, 224, 3)\n",
      "Shape of all_labels: (439, 1, 1, 1)\n",
      "Shape of train_data: (280, 224, 224, 3)\n",
      "Shape of val_data: (71, 224, 224, 3)\n",
      "Shape of test_data: (88, 224, 224, 3)\n",
      "Shape of train_labels: (280, 1)\n",
      "Shape of val_labels: (71, 1)\n",
      "Shape of test_labels: (88, 1)\n"
     ]
    }
   ],
   "source": [
    "print(\"Shape of all_data:\", all_data.shape)\n",
    "print(\"Shape of all_labels:\", all_labels.shape)\n",
    "print(\"Shape of train_data:\", train_data.shape)\n",
    "print(\"Shape of val_data:\", val_data.shape)\n",
    "print(\"Shape of test_data:\", test_data.shape)\n",
    "print(\"Shape of train_labels:\", train_labels.shape)\n",
    "print(\"Shape of val_labels:\", val_labels.shape)\n",
    "print(\"Shape of test_labels:\", test_labels.shape)"
   ]
  },
  {
   "cell_type": "code",
   "execution_count": 16,
   "id": "3b058d47",
   "metadata": {},
   "outputs": [
    {
     "name": "stdout",
     "output_type": "stream",
     "text": [
      "Shape of good_data before manipulation: (320, 224, 224, 3)\n",
      "Shape of defect_data after manipulation: (119, 224, 224, 3)\n",
      "all_data shape after combining labels: (439, 224, 224, 3)\n",
      "all_labels shape after combining labels: (439, 1)\n"
     ]
    }
   ],
   "source": [
    "\n",
    "\n",
    "# Reshape to remove unnecessary dimensions\n",
    "all_labels = np.squeeze(all_labels, axis=(2, 3))\n",
    "\n",
    "# Print shapes after manipulation\n",
    "print(\"Shape of good_data before manipulation:\", good_data.shape)\n",
    "print(\"Shape of defect_data after manipulation:\", defect_data.shape)\n",
    "print(\"all_data shape after combining labels:\", all_data.shape)\n",
    "print(\"all_labels shape after combining labels:\", all_labels.shape)\n"
   ]
  },
  {
   "cell_type": "code",
   "execution_count": 4,
   "id": "1a04cf94",
   "metadata": {},
   "outputs": [
    {
     "ename": "NameError",
     "evalue": "name 'ImageDataGenerator' is not defined",
     "output_type": "error",
     "traceback": [
      "\u001b[0;31m---------------------------------------------------------------------------\u001b[0m",
      "\u001b[0;31mNameError\u001b[0m                                 Traceback (most recent call last)",
      "Cell \u001b[0;32mIn[4], line 2\u001b[0m\n\u001b[1;32m      1\u001b[0m \u001b[38;5;66;03m# Step 5.1 Data augmentation \u001b[39;00m\n\u001b[0;32m----> 2\u001b[0m train_datagen \u001b[38;5;241m=\u001b[39m ImageDataGenerator(\n\u001b[1;32m      3\u001b[0m \u001b[38;5;66;03m#     rotation_range=20,\u001b[39;00m\n\u001b[1;32m      4\u001b[0m \u001b[38;5;66;03m#     width_shift_range=0.2,\u001b[39;00m\n\u001b[1;32m      5\u001b[0m \u001b[38;5;66;03m#     height_shift_range=0.2,\u001b[39;00m\n\u001b[1;32m      6\u001b[0m \u001b[38;5;66;03m#     shear_range=0.2,\u001b[39;00m\n\u001b[1;32m      7\u001b[0m \u001b[38;5;66;03m#     zoom_range=0.2,\u001b[39;00m\n\u001b[1;32m      8\u001b[0m \u001b[38;5;66;03m#     horizontal_flip=True,\u001b[39;00m\n\u001b[1;32m      9\u001b[0m \u001b[38;5;66;03m#     fill_mode='nearest'\u001b[39;00m\n\u001b[1;32m     10\u001b[0m )\n",
      "\u001b[0;31mNameError\u001b[0m: name 'ImageDataGenerator' is not defined"
     ]
    }
   ],
   "source": [
    "# Step 5.1 Data augmentation \n",
    "train_datagen = ImageDataGenerator(\n",
    "#     rotation_range=20,\n",
    "#     width_shift_range=0.2,\n",
    "#     height_shift_range=0.2,\n",
    "#     shear_range=0.2,\n",
    "#     zoom_range=0.2,\n",
    "#     horizontal_flip=True,\n",
    "#     fill_mode='nearest'\n",
    ")\n",
    "\n"
   ]
  },
  {
   "cell_type": "code",
   "execution_count": null,
   "id": "a89eed93",
   "metadata": {},
   "outputs": [],
   "source": []
  },
  {
   "cell_type": "code",
   "execution_count": 48,
   "id": "0bad5551",
   "metadata": {},
   "outputs": [],
   "source": [
    "# Fit the ImageDataGenerator on the combined data\n",
    "train_datagen.fit(all_data)"
   ]
  },
  {
   "cell_type": "code",
   "execution_count": 49,
   "id": "54046a0c",
   "metadata": {},
   "outputs": [],
   "source": [
    "# Generate augmented data\n",
    "train_generator = train_datagen.flow(all_data, all_labels, batch_size=32)\n",
    "model.compile(optimizer='adam', loss='binary_crossentropy', metrics=['accuracy'])\n"
   ]
  },
  {
   "cell_type": "code",
   "execution_count": 50,
   "id": "7774fdc7",
   "metadata": {},
   "outputs": [
    {
     "data": {
      "text/plain": [
       "0    320\n",
       "1    119\n",
       "Name: count, dtype: int64"
      ]
     },
     "execution_count": 50,
     "metadata": {},
     "output_type": "execute_result"
    }
   ],
   "source": [
    "import pandas as pd\n",
    "pd.Series(all_labels[:,0]).value_counts()"
   ]
  },
  {
   "cell_type": "code",
   "execution_count": 52,
   "id": "05240430",
   "metadata": {},
   "outputs": [
    {
     "name": "stdout",
     "output_type": "stream",
     "text": [
      "Epoch 1/5\n",
      "14/14 [==============================] - 7s 490ms/step - loss: 0.3651 - accuracy: 0.8519\n",
      "Epoch 2/5\n",
      "14/14 [==============================] - 7s 494ms/step - loss: 0.2927 - accuracy: 0.8884\n",
      "Epoch 3/5\n",
      "14/14 [==============================] - 7s 499ms/step - loss: 0.2515 - accuracy: 0.9157\n",
      "Epoch 4/5\n",
      "14/14 [==============================] - 7s 500ms/step - loss: 0.2401 - accuracy: 0.9157\n",
      "Epoch 5/5\n",
      "14/14 [==============================] - 7s 510ms/step - loss: 0.1705 - accuracy: 0.9294\n"
     ]
    },
    {
     "data": {
      "text/plain": [
       "<keras.src.callbacks.History at 0x29acfa290>"
      ]
     },
     "execution_count": 52,
     "metadata": {},
     "output_type": "execute_result"
    }
   ],
   "source": [
    "\n",
    "# Step 6.0 Train the model\n",
    "epochs = 5  # adjust as needed\n",
    "model.fit(train_generator, epochs=epochs)"
   ]
  },
  {
   "cell_type": "code",
   "execution_count": null,
   "id": "09af1b1d",
   "metadata": {},
   "outputs": [],
   "source": []
  },
  {
   "cell_type": "code",
   "execution_count": 53,
   "id": "f74e453b",
   "metadata": {},
   "outputs": [
    {
     "name": "stdout",
     "output_type": "stream",
     "text": [
      "3/3 [==============================] - 0s 133ms/step - loss: 0.1366 - accuracy: 0.9659\n",
      "Test Loss: 0.13660970330238342, Test Accuracy: 0.9659090638160706\n"
     ]
    }
   ],
   "source": [
    "# Assuming you have a separate test set\n",
    "test_loss, test_accuracy = model.evaluate(test_data, test_labels)\n",
    "print(f'Test Loss: {test_loss}, Test Accuracy: {test_accuracy}')\n"
   ]
  },
  {
   "cell_type": "code",
   "execution_count": 54,
   "id": "22dc501f",
   "metadata": {},
   "outputs": [
    {
     "name": "stdout",
     "output_type": "stream",
     "text": [
      "3/3 [==============================] - 0s 85ms/step - loss: 0.1235 - accuracy: 0.9718\n",
      "New Data Loss: 0.12346360087394714, New Data Accuracy: 0.9718309640884399\n"
     ]
    }
   ],
   "source": [
    "# Assuming you have new, unseen data\n",
    "new_loss, new_accuracy = model.evaluate(val_data, val_labels)\n",
    "print(f'New Data Loss: {new_loss}, New Data Accuracy: {new_accuracy}')\n"
   ]
  },
  {
   "cell_type": "code",
   "execution_count": 55,
   "id": "2a55b897",
   "metadata": {},
   "outputs": [
    {
     "name": "stdout",
     "output_type": "stream",
     "text": [
      "3/3 [==============================] - 0s 134ms/step\n"
     ]
    }
   ],
   "source": [
    "predictions = model.predict(test_data)"
   ]
  },
  {
   "cell_type": "code",
   "execution_count": 56,
   "id": "84c12168",
   "metadata": {},
   "outputs": [
    {
     "name": "stdout",
     "output_type": "stream",
     "text": [
      "Precision: 1.0000\n",
      "Recall: 0.8500\n",
      "F1 Score: 0.9189\n"
     ]
    }
   ],
   "source": [
    "# Convert predictions to binary (0 or 1)\n",
    "binary_predictions = (predictions > 0.5).astype(int)\n",
    "\n",
    "# Calculate additional metrics\n",
    "from sklearn.metrics import precision_score, recall_score, f1_score\n",
    "\n",
    "# Set zero_division parameter to control behavior\n",
    "precision = precision_score(test_labels, binary_predictions, zero_division=1)\n",
    "recall = recall_score(test_labels, binary_predictions, zero_division=1)\n",
    "f1 = f1_score(test_labels, binary_predictions, zero_division=1)\n",
    "\n",
    "print(f\"Precision: {precision:.4f}\")\n",
    "print(f\"Recall: {recall:.4f}\")\n",
    "print(f\"F1 Score: {f1:.4f}\")"
   ]
  },
  {
   "cell_type": "code",
   "execution_count": 57,
   "id": "fa9788f4",
   "metadata": {},
   "outputs": [
    {
     "data": {
      "text/plain": [
       "array([[4.42639813e-02],\n",
       "       [2.59504683e-04],\n",
       "       [2.34519973e-01],\n",
       "       [1.84704214e-01],\n",
       "       [8.97452176e-01],\n",
       "       [1.77477449e-01],\n",
       "       [1.12507895e-01],\n",
       "       [2.87888397e-05],\n",
       "       [3.35176915e-01],\n",
       "       [7.63741374e-01],\n",
       "       [1.81527615e-01],\n",
       "       [9.98423249e-02],\n",
       "       [5.11204358e-03],\n",
       "       [7.58833885e-01],\n",
       "       [9.11719024e-01],\n",
       "       [3.66582768e-03],\n",
       "       [6.97621763e-01],\n",
       "       [1.77259922e-01],\n",
       "       [2.53954232e-01],\n",
       "       [6.34485483e-02],\n",
       "       [7.30392197e-03],\n",
       "       [4.01819050e-01],\n",
       "       [4.39935960e-02],\n",
       "       [4.23927568e-02],\n",
       "       [1.73865628e-04],\n",
       "       [2.39231042e-03],\n",
       "       [3.66705726e-03],\n",
       "       [5.67143299e-02],\n",
       "       [8.01134527e-01],\n",
       "       [2.01361720e-02],\n",
       "       [2.01563910e-02],\n",
       "       [8.27867210e-01],\n",
       "       [1.75968558e-03],\n",
       "       [9.13826823e-01],\n",
       "       [9.24688995e-01],\n",
       "       [3.25793810e-02],\n",
       "       [1.50536336e-02],\n",
       "       [9.25510097e-03],\n",
       "       [1.26583248e-01],\n",
       "       [3.55838537e-02],\n",
       "       [8.98810148e-01],\n",
       "       [1.36456281e-01],\n",
       "       [7.96092823e-02],\n",
       "       [1.60776973e-01],\n",
       "       [2.03422710e-01],\n",
       "       [3.95954512e-02],\n",
       "       [1.58907086e-01],\n",
       "       [4.02662996e-03],\n",
       "       [2.04772391e-06],\n",
       "       [8.11754882e-01],\n",
       "       [8.65272582e-01],\n",
       "       [4.63306392e-03],\n",
       "       [1.21375337e-01],\n",
       "       [7.89435208e-03],\n",
       "       [5.70856035e-02],\n",
       "       [1.19047402e-03],\n",
       "       [1.82872114e-04],\n",
       "       [3.33824717e-02],\n",
       "       [2.40116268e-01],\n",
       "       [3.24624866e-01],\n",
       "       [3.55835422e-03],\n",
       "       [1.23336583e-01],\n",
       "       [4.44711186e-02],\n",
       "       [8.04601669e-01],\n",
       "       [4.47352929e-03],\n",
       "       [7.22769082e-01],\n",
       "       [1.46777898e-01],\n",
       "       [4.59842794e-02],\n",
       "       [4.71057683e-01],\n",
       "       [4.42940649e-03],\n",
       "       [1.08899372e-02],\n",
       "       [9.02415335e-01],\n",
       "       [5.64694345e-01],\n",
       "       [2.24174596e-02],\n",
       "       [7.91821443e-03],\n",
       "       [1.71618417e-01],\n",
       "       [1.12588428e-01],\n",
       "       [7.04505108e-03],\n",
       "       [1.24600409e-02],\n",
       "       [2.12621465e-02],\n",
       "       [3.43072880e-03],\n",
       "       [3.74266356e-02],\n",
       "       [9.50691879e-01],\n",
       "       [1.44897640e-01],\n",
       "       [3.98870409e-02],\n",
       "       [5.54288388e-04],\n",
       "       [1.16793260e-01],\n",
       "       [3.24520990e-02]], dtype=float32)"
      ]
     },
     "execution_count": 57,
     "metadata": {},
     "output_type": "execute_result"
    }
   ],
   "source": [
    "predictions"
   ]
  },
  {
   "cell_type": "code",
   "execution_count": 58,
   "id": "5c5526f2",
   "metadata": {
    "scrolled": true
   },
   "outputs": [
    {
     "data": {
      "text/plain": [
       "array([[0],\n",
       "       [0],\n",
       "       [0],\n",
       "       [0],\n",
       "       [1],\n",
       "       [0],\n",
       "       [0],\n",
       "       [0],\n",
       "       [0],\n",
       "       [1],\n",
       "       [0],\n",
       "       [0],\n",
       "       [0],\n",
       "       [1],\n",
       "       [1],\n",
       "       [0],\n",
       "       [1],\n",
       "       [0],\n",
       "       [0],\n",
       "       [0],\n",
       "       [0],\n",
       "       [0],\n",
       "       [0],\n",
       "       [0],\n",
       "       [0],\n",
       "       [0],\n",
       "       [0],\n",
       "       [0],\n",
       "       [1],\n",
       "       [0],\n",
       "       [0],\n",
       "       [1],\n",
       "       [0],\n",
       "       [1],\n",
       "       [1],\n",
       "       [0],\n",
       "       [0],\n",
       "       [0],\n",
       "       [0],\n",
       "       [0],\n",
       "       [1],\n",
       "       [0],\n",
       "       [0],\n",
       "       [0],\n",
       "       [0],\n",
       "       [0],\n",
       "       [0],\n",
       "       [0],\n",
       "       [0],\n",
       "       [1],\n",
       "       [1],\n",
       "       [0],\n",
       "       [0],\n",
       "       [0],\n",
       "       [0],\n",
       "       [0],\n",
       "       [0],\n",
       "       [0],\n",
       "       [0],\n",
       "       [0],\n",
       "       [0],\n",
       "       [0],\n",
       "       [0],\n",
       "       [1],\n",
       "       [0],\n",
       "       [1],\n",
       "       [0],\n",
       "       [0],\n",
       "       [0],\n",
       "       [0],\n",
       "       [0],\n",
       "       [1],\n",
       "       [1],\n",
       "       [0],\n",
       "       [0],\n",
       "       [0],\n",
       "       [0],\n",
       "       [0],\n",
       "       [0],\n",
       "       [0],\n",
       "       [0],\n",
       "       [0],\n",
       "       [1],\n",
       "       [0],\n",
       "       [0],\n",
       "       [0],\n",
       "       [0],\n",
       "       [0]])"
      ]
     },
     "execution_count": 58,
     "metadata": {},
     "output_type": "execute_result"
    }
   ],
   "source": [
    "binary_predictions"
   ]
  },
  {
   "cell_type": "code",
   "execution_count": null,
   "id": "7719d527",
   "metadata": {},
   "outputs": [],
   "source": []
  },
  {
   "cell_type": "code",
   "execution_count": 59,
   "id": "85b81b20",
   "metadata": {},
   "outputs": [
    {
     "name": "stdout",
     "output_type": "stream",
     "text": [
      "3/3 [==============================] - 0s 94ms/step\n"
     ]
    }
   ],
   "source": [
    "val_predictions = model.predict(val_data)"
   ]
  },
  {
   "cell_type": "code",
   "execution_count": 60,
   "id": "d4c2e019",
   "metadata": {
    "scrolled": false
   },
   "outputs": [
    {
     "name": "stdout",
     "output_type": "stream",
     "text": [
      "Precision: 0.9474\n",
      "Recall: 0.9474\n",
      "F1 Score: 0.9474\n"
     ]
    }
   ],
   "source": [
    "# Convert predictions to binary (0 or 1)\n",
    "val_binary_predictions = (val_predictions > 0.5).astype(int)\n",
    "\n",
    "# Calculate additional metrics\n",
    "from sklearn.metrics import precision_score, recall_score, f1_score\n",
    "\n",
    "# Set zero_division parameter to control behavior\n",
    "precision = precision_score(val_labels, val_binary_predictions, zero_division=1)\n",
    "recall = recall_score(val_labels, val_binary_predictions, zero_division=1)\n",
    "f1 = f1_score(val_labels, val_binary_predictions, zero_division=1)\n",
    "\n",
    "print(f\"Precision: {precision:.4f}\")\n",
    "print(f\"Recall: {recall:.4f}\")\n",
    "print(f\"F1 Score: {f1:.4f}\")"
   ]
  },
  {
   "cell_type": "code",
   "execution_count": 61,
   "id": "cd7d5e10",
   "metadata": {
    "scrolled": true
   },
   "outputs": [
    {
     "data": {
      "text/plain": [
       "array([[0],\n",
       "       [1],\n",
       "       [0],\n",
       "       [0],\n",
       "       [1],\n",
       "       [0],\n",
       "       [1],\n",
       "       [0],\n",
       "       [0],\n",
       "       [1],\n",
       "       [0],\n",
       "       [1],\n",
       "       [0],\n",
       "       [0],\n",
       "       [1],\n",
       "       [1],\n",
       "       [0],\n",
       "       [1],\n",
       "       [1],\n",
       "       [0],\n",
       "       [0],\n",
       "       [0],\n",
       "       [0],\n",
       "       [0],\n",
       "       [1],\n",
       "       [0],\n",
       "       [0],\n",
       "       [0],\n",
       "       [0],\n",
       "       [0],\n",
       "       [0],\n",
       "       [0],\n",
       "       [0],\n",
       "       [1],\n",
       "       [1],\n",
       "       [0],\n",
       "       [1],\n",
       "       [0],\n",
       "       [0],\n",
       "       [0],\n",
       "       [0],\n",
       "       [0],\n",
       "       [0],\n",
       "       [1],\n",
       "       [0],\n",
       "       [1],\n",
       "       [1],\n",
       "       [1],\n",
       "       [0],\n",
       "       [0],\n",
       "       [1],\n",
       "       [0],\n",
       "       [0],\n",
       "       [0],\n",
       "       [0],\n",
       "       [0],\n",
       "       [1],\n",
       "       [0],\n",
       "       [0],\n",
       "       [0],\n",
       "       [0],\n",
       "       [0],\n",
       "       [0],\n",
       "       [0],\n",
       "       [0],\n",
       "       [0],\n",
       "       [0],\n",
       "       [0],\n",
       "       [0],\n",
       "       [0],\n",
       "       [0]])"
      ]
     },
     "execution_count": 61,
     "metadata": {},
     "output_type": "execute_result"
    }
   ],
   "source": [
    "val_binary_predictions"
   ]
  },
  {
   "cell_type": "code",
   "execution_count": 62,
   "id": "93f5356e",
   "metadata": {},
   "outputs": [
    {
     "name": "stdout",
     "output_type": "stream",
     "text": [
      "Confusion Matrix:\n",
      "[[51  1]\n",
      " [ 1 18]]\n"
     ]
    }
   ],
   "source": [
    "import numpy as np\n",
    "from sklearn.metrics import confusion_matrix, roc_curve, auc\n",
    "import matplotlib.pyplot as plt\n",
    "\n",
    "# Threshold for classification\n",
    "threshold = 0.5\n",
    "\n",
    "# Confusion Matrix\n",
    "cm = confusion_matrix(val_labels, val_binary_predictions)\n",
    "print(\"Confusion Matrix:\")\n",
    "print(cm)\n"
   ]
  },
  {
   "cell_type": "code",
   "execution_count": 63,
   "id": "52ba2dfe",
   "metadata": {},
   "outputs": [
    {
     "data": {
      "image/png": "[encoded data removed]",
      "text/plain": [
       "<Figure size 800x600 with 1 Axes>"
      ]
     },
     "metadata": {},
     "output_type": "display_data"
    }
   ],
   "source": [
    "\n",
    "# ROC Curve\n",
    "fpr, tpr, thresholds = roc_curve(val_labels, val_binary_predictions)\n",
    "roc_auc = auc(fpr, tpr)\n",
    "\n",
    "# Plot ROC Curve\n",
    "plt.figure(figsize=(8, 6))\n",
    "plt.plot(fpr, tpr, color='darkorange', lw=2, label='ROC curve (area = {:.2f})'.format(roc_auc))\n",
    "plt.plot([0, 1], [0, 1], color='navy', lw=2, linestyle='--')\n",
    "plt.xlabel('False Positive Rate')\n",
    "plt.ylabel('True Positive Rate')\n",
    "plt.title('Receiver Operating Characteristic (ROC) Curve')\n",
    "plt.legend(loc='lower right')\n",
    "plt.show()"
   ]
  },
  {
   "cell_type": "code",
   "execution_count": null,
   "id": "6d6dfc76",
   "metadata": {},
   "outputs": [],
   "source": []
  },
  {
   "cell_type": "code",
   "execution_count": null,
   "id": "854aa0ad",
   "metadata": {},
   "outputs": [],
   "source": []
  }
 ],
 "metadata": {
  "kernelspec": {
   "display_name": "Python 3 (ipykernel)",
   "language": "python",
   "name": "python3"
  },
  "language_info": {
   "codemirror_mode": {
    "name": "ipython",
    "version": 3
   },
   "file_extension": ".py",
   "mimetype": "text/x-python",
   "name": "python",
   "nbconvert_exporter": "python",
   "pygments_lexer": "ipython3",
   "version": "3.11.5"
  }
 },
 "nbformat": 4,
 "nbformat_minor": 5
}
