{
 "cells": [
  {
   "cell_type": "code",
   "execution_count": 1,
   "id": "c40a4b16",
   "metadata": {},
   "outputs": [],
   "source": [
    "# import library\n",
    "import os\n",
    "import cv2\n",
    "import numpy as np\n",
    "from sklearn.model_selection import train_test_split\n",
    "from tensorflow.keras.preprocessing.image import ImageDataGenerator\n",
    "import tensorflow as tf\n",
    "from tensorflow.keras import layers, models"
   ]
  },
  {
   "cell_type": "code",
   "execution_count": 2,
   "id": "2e66e3c8",
   "metadata": {},
   "outputs": [],
   "source": [
    "# Step 1.0 Data Folder\n",
    "train_dir = '/Users/piyanutnithiworachai/Documents/Curtin/screw/train/good'\n",
    "test_dir = '/Users/piyanutnithiworachai/Documents/Curtin/screw/test'\n",
    "ground_truth_dir = '/Users/piyanutnithiworachai/Documents/Curtin/screw/ground_truth'"
   ]
  },
  {
   "cell_type": "code",
   "execution_count": 3,
   "id": "f790d392",
   "metadata": {},
   "outputs": [],
   "source": [
    "# Step 2.0 Data Preposessing\n",
    "def load_data(directory, label, convert_to_grayscale=True, normalize=True):\n",
    "    data = []\n",
    "    labels = []\n",
    "    for filename in os.listdir(directory):\n",
    "        if filename.endswith(\".png\"):  # assuming images are in PNG format\n",
    "            img_path = os.path.join(directory, filename)\n",
    "            img = cv2.imread(img_path)\n",
    "            img = cv2.cvtColor(img, cv2.COLOR_BGR2RGB)  # if using OpenCV, convert BGR to RGB\n",
    "            img = cv2.resize(img, (224, 224))  # adjust size according to your network input size\n",
    "            data.append(img)\n",
    "            labels.append(label)\n",
    "    return np.array(data), np.array(labels)\n",
    "\n",
    "\n",
    "# Load Good images from Train directory in grayscale and normalize\n",
    "good_data, good_labels = load_data(train_dir, label=0, convert_to_grayscale=True, normalize=True)\n",
    "\n",
    "# Load Defect images from Test directory in grayscale and normalize\n",
    "defect_data, defect_labels = [], []\n",
    "defect_folders = os.listdir(test_dir)\n",
    "for folder in defect_folders:\n",
    "    if folder.startswith(\"defect\"):\n",
    "        defect_folder_path = os.path.join(test_dir, folder)\n",
    "        defect_images, _ = load_data(defect_folder_path, label=1, convert_to_grayscale=True, normalize=True)\n",
    "        defect_data.extend(defect_images)\n",
    "        defect_labels.extend([1] * len(defect_images))\n",
    "\n",
    "\n"
   ]
  },
  {
   "cell_type": "code",
   "execution_count": 4,
   "id": "b3203856",
   "metadata": {},
   "outputs": [
    {
     "name": "stdout",
     "output_type": "stream",
     "text": [
      "Shape of good_data before manipulation: (320, 224, 224, 3)\n",
      "Shape of defect_data after manipulation: (119, 224, 224, 3)\n",
      "all_labels shape after combining labels: (439,)\n",
      "all_labels shape after combining labels: (439, 1)\n"
     ]
    }
   ],
   "source": [
    "# Step 3.0 label\n",
    "\n",
    "# Print shapes before any manipulation\n",
    "print(\"Shape of good_data before manipulation:\", good_data.shape)\n",
    "\n",
    "# Convert defect_data to a NumPy array\n",
    "defect_data = np.array(defect_data)\n",
    "\n",
    "# Print shapes after manipulation\n",
    "print(\"Shape of defect_data after manipulation:\", defect_data.shape)\n",
    "\n",
    "# Combine good and defect data before applying data augmentation\n",
    "all_data = np.concatenate([good_data, defect_data])\n",
    "\n",
    "# Combine labels\n",
    "all_labels = np.concatenate([np.zeros(len(good_data)), np.ones(len(defect_data))])\n",
    "\n",
    "# Print the shapes after combining labels\n",
    "print(\"all_labels shape after combining labels:\", all_labels.shape)\n",
    "\n",
    "# Ensure that the labels have the same number of dimensions as the data\n",
    "good_labels = np.expand_dims(good_labels, axis=1)\n",
    "defect_labels = np.expand_dims(defect_labels, axis=1)\n",
    "\n",
    "# Ensure that the labels are integers, not floats\n",
    "good_labels = good_labels.astype(int)\n",
    "defect_labels = defect_labels.astype(int)\n",
    "\n",
    "# Combine labels\n",
    "all_labels = np.concatenate([good_labels, defect_labels])\n",
    "\n",
    "# Print the shapes after combining labels\n",
    "print(\"all_labels shape after combining labels:\", all_labels.shape)"
   ]
  },
  {
   "cell_type": "code",
   "execution_count": 5,
   "id": "122ea349",
   "metadata": {},
   "outputs": [],
   "source": [
    "# Ensure good_data and defect_data have the same number of dimensions\n",
    "if len(good_data.shape) == 3:\n",
    "    good_data = np.expand_dims(good_data, axis=-1)  # Add channel dimension if it's missing\n",
    "\n",
    "if len(defect_data.shape) == 3:\n",
    "    defect_data = np.expand_dims(defect_data, axis=-1)  # Add channel dimension if it's missing\n"
   ]
  },
  {
   "cell_type": "code",
   "execution_count": 6,
   "id": "190ba635",
   "metadata": {},
   "outputs": [
    {
     "name": "stdout",
     "output_type": "stream",
     "text": [
      "Shape of good_data before manipulation: (320, 224, 224, 3)\n",
      "Shape of defect_data after manipulation: (119, 224, 224, 3)\n",
      "all_labels shape after combining labels: (439, 1)\n",
      "all_labels shape after combining labels: (439, 1)\n"
     ]
    }
   ],
   "source": [
    "# Print shapes before any manipulation\n",
    "print(\"Shape of good_data before manipulation:\", good_data.shape)\n",
    "# Print shapes after manipulation\n",
    "print(\"Shape of defect_data after manipulation:\", defect_data.shape)\n",
    "# Print the shapes after combining labels\n",
    "print(\"all_labels shape after combining labels:\", all_labels.shape)\n",
    "# Print the shapes after combining labels\n",
    "print(\"all_labels shape after combining labels:\", all_labels.shape)"
   ]
  },
  {
   "cell_type": "markdown",
   "id": "6d21c286",
   "metadata": {},
   "source": [
    "The CNN model is defined using the Sequential API from Keras.\n",
    "The model is compiled with the Adam optimizer and binary cross-entropy loss, suitable for binary classification.\n",
    "Data augmentation is applied during training using ImageDataGenerator to improve model generalization (you can adjust the augmentation parameters).\n",
    "The model is trained using the fit method, and the training data is obtained from the train_generator."
   ]
  },
  {
   "cell_type": "code",
   "execution_count": 7,
   "id": "8744dc72",
   "metadata": {},
   "outputs": [],
   "source": [
    "# Step 5.0 Split the data  \n",
    "# Split the data into train and test sets\n",
    "train_data, test_data, train_labels, test_labels = train_test_split(\n",
    "    all_data, all_labels, test_size=0.2, random_state=42\n",
    ")\n",
    "\n",
    "# Further split the training data into training and validation sets\n",
    "train_data, val_data, train_labels, val_labels = train_test_split(\n",
    "    train_data, train_labels, test_size=0.2, random_state=42\n",
    ")"
   ]
  },
  {
   "cell_type": "code",
   "execution_count": 8,
   "id": "0616d61c",
   "metadata": {},
   "outputs": [
    {
     "name": "stderr",
     "output_type": "stream",
     "text": [
      "2023-12-10 22:43:41.557039: I metal_plugin/src/device/metal_device.cc:1154] Metal device set to: Apple M1 Pro\n",
      "2023-12-10 22:43:41.557065: I metal_plugin/src/device/metal_device.cc:296] systemMemory: 16.00 GB\n",
      "2023-12-10 22:43:41.557080: I metal_plugin/src/device/metal_device.cc:313] maxCacheSize: 5.33 GB\n",
      "2023-12-10 22:43:41.557136: I tensorflow/core/common_runtime/pluggable_device/pluggable_device_factory.cc:306] Could not identify NUMA node of platform GPU ID 0, defaulting to 0. Your kernel may not have been built with NUMA support.\n",
      "2023-12-10 22:43:41.557169: I tensorflow/core/common_runtime/pluggable_device/pluggable_device_factory.cc:272] Created TensorFlow device (/job:localhost/replica:0/task:0/device:GPU:0 with 0 MB memory) -> physical PluggableDevice (device: 0, name: METAL, pci bus id: <undefined>)\n"
     ]
    }
   ],
   "source": [
    "# Step 4.0 Create and compile the CNN model\n",
    "model = models.Sequential([\n",
    "    layers.Conv2D(32, (3, 3), activation='relu', input_shape=(224, 224, 3)),\n",
    "    layers.MaxPooling2D((2, 2)),\n",
    "    layers.Conv2D(64, (3, 3), activation='relu'),\n",
    "    layers.MaxPooling2D((2, 2)),\n",
    "    layers.Conv2D(128, (3, 3), activation='relu'),\n",
    "    layers.MaxPooling2D((2, 2)),\n",
    "    layers.Flatten(),\n",
    "    layers.Dense(128, activation='relu'),\n",
    "    layers.Dense(1, activation='sigmoid')  # binary classification\n",
    "])\n",
    "\n",
    "model.compile(optimizer='adam', loss='binary_crossentropy', metrics=['accuracy'])\n"
   ]
  },
  {
   "cell_type": "code",
   "execution_count": 9,
   "id": "416102e0",
   "metadata": {},
   "outputs": [],
   "source": [
    "\n",
    "\n",
    "# Ensure that the labels have the same number of dimensions as the data\n",
    "good_labels = np.expand_dims(good_labels, axis=1)\n",
    "defect_labels = np.expand_dims(defect_labels, axis=1)\n",
    "\n",
    "# Ensure that the labels are integers, not floats\n",
    "good_labels = good_labels.astype(int)\n",
    "defect_labels = defect_labels.astype(int)\n",
    "\n",
    "# Combine labels\n",
    "all_labels = np.concatenate([good_labels, defect_labels])\n",
    "\n",
    "# Ensure that the labels have the same number of dimensions as the data\n",
    "all_labels = np.expand_dims(all_labels, axis=1)\n",
    "\n",
    "# Ensure that the labels are integers, not floats\n",
    "all_labels = all_labels.astype(int)\n",
    "\n"
   ]
  },
  {
   "cell_type": "code",
   "execution_count": 10,
   "id": "053bb048",
   "metadata": {},
   "outputs": [
    {
     "name": "stdout",
     "output_type": "stream",
     "text": [
      "Shape of all_data: (439, 224, 224, 3)\n",
      "Shape of all_labels: (439, 1, 1, 1)\n",
      "Shape of train_data: (280, 224, 224, 3)\n",
      "Shape of val_data: (71, 224, 224, 3)\n",
      "Shape of test_data: (88, 224, 224, 3)\n",
      "Shape of train_labels: (280, 1)\n",
      "Shape of val_labels: (71, 1)\n",
      "Shape of test_labels: (88, 1)\n"
     ]
    }
   ],
   "source": [
    "print(\"Shape of all_data:\", all_data.shape)\n",
    "print(\"Shape of all_labels:\", all_labels.shape)\n",
    "print(\"Shape of train_data:\", train_data.shape)\n",
    "print(\"Shape of val_data:\", val_data.shape)\n",
    "print(\"Shape of test_data:\", test_data.shape)\n",
    "print(\"Shape of train_labels:\", train_labels.shape)\n",
    "print(\"Shape of val_labels:\", val_labels.shape)\n",
    "print(\"Shape of test_labels:\", test_labels.shape)"
   ]
  },
  {
   "cell_type": "code",
   "execution_count": 11,
   "id": "3b058d47",
   "metadata": {},
   "outputs": [
    {
     "name": "stdout",
     "output_type": "stream",
     "text": [
      "Shape of good_data before manipulation: (320, 224, 224, 3)\n",
      "Shape of defect_data after manipulation: (119, 224, 224, 3)\n",
      "all_data shape after combining labels: (439, 224, 224, 3)\n",
      "all_labels shape after combining labels: (439, 1)\n"
     ]
    }
   ],
   "source": [
    "\n",
    "\n",
    "# Reshape to remove unnecessary dimensions\n",
    "all_labels = np.squeeze(all_labels, axis=(2, 3))\n",
    "\n",
    "# Print shapes after manipulation\n",
    "print(\"Shape of good_data before manipulation:\", good_data.shape)\n",
    "print(\"Shape of defect_data after manipulation:\", defect_data.shape)\n",
    "print(\"all_data shape after combining labels:\", all_data.shape)\n",
    "print(\"all_labels shape after combining labels:\", all_labels.shape)\n"
   ]
  },
  {
   "cell_type": "code",
   "execution_count": 12,
   "id": "1a04cf94",
   "metadata": {},
   "outputs": [],
   "source": [
    "# Step 5.1 Data augmentation \n",
    "train_datagen = ImageDataGenerator(\n",
    "#     rotation_range=20,\n",
    "#     width_shift_range=0.2,\n",
    "#     height_shift_range=0.2,\n",
    "#     shear_range=0.2,\n",
    "#     zoom_range=0.2,\n",
    "#     horizontal_flip=True,\n",
    "#     fill_mode='nearest'\n",
    ")\n",
    "\n"
   ]
  },
  {
   "cell_type": "code",
   "execution_count": null,
   "id": "a89eed93",
   "metadata": {},
   "outputs": [],
   "source": []
  },
  {
   "cell_type": "code",
   "execution_count": 13,
   "id": "0bad5551",
   "metadata": {},
   "outputs": [],
   "source": [
    "# Fit the ImageDataGenerator on the combined data\n",
    "train_datagen.fit(all_data)"
   ]
  },
  {
   "cell_type": "code",
   "execution_count": 14,
   "id": "54046a0c",
   "metadata": {},
   "outputs": [],
   "source": [
    "# Generate augmented data\n",
    "train_generator = train_datagen.flow(all_data, all_labels, batch_size=32)\n",
    "model.compile(optimizer='adam', loss='binary_crossentropy', metrics=['accuracy'])\n"
   ]
  },
  {
   "cell_type": "code",
   "execution_count": 15,
   "id": "7774fdc7",
   "metadata": {},
   "outputs": [
    {
     "data": {
      "text/plain": [
       "0    320\n",
       "1    119\n",
       "Name: count, dtype: int64"
      ]
     },
     "execution_count": 15,
     "metadata": {},
     "output_type": "execute_result"
    }
   ],
   "source": [
    "import pandas as pd\n",
    "pd.Series(all_labels[:,0]).value_counts()"
   ]
  },
  {
   "cell_type": "code",
   "execution_count": 16,
   "id": "05240430",
   "metadata": {},
   "outputs": [
    {
     "name": "stdout",
     "output_type": "stream",
     "text": [
      "Epoch 1/5\n"
     ]
    },
    {
     "name": "stderr",
     "output_type": "stream",
     "text": [
      "2023-12-10 22:43:43.145836: I tensorflow/core/grappler/optimizers/custom_graph_optimizer_registry.cc:117] Plugin optimizer for device_type GPU is enabled.\n"
     ]
    },
    {
     "name": "stdout",
     "output_type": "stream",
     "text": [
      "14/14 [==============================] - 8s 250ms/step - loss: 548.2728 - accuracy: 0.5103\n",
      "Epoch 2/5\n",
      "14/14 [==============================] - 1s 74ms/step - loss: 220.7810 - accuracy: 0.3713\n",
      "Epoch 3/5\n",
      "14/14 [==============================] - 1s 70ms/step - loss: 118.8953 - accuracy: 0.5740\n",
      "Epoch 4/5\n",
      "14/14 [==============================] - 1s 71ms/step - loss: 49.6613 - accuracy: 0.5513\n",
      "Epoch 5/5\n",
      "14/14 [==============================] - 1s 70ms/step - loss: 25.0305 - accuracy: 0.5558\n"
     ]
    },
    {
     "data": {
      "text/plain": [
       "<keras.src.callbacks.History at 0x284ad3350>"
      ]
     },
     "execution_count": 16,
     "metadata": {},
     "output_type": "execute_result"
    }
   ],
   "source": [
    "\n",
    "# Step 6.0 Train the model\n",
    "epochs = 5  # adjust as needed\n",
    "model.fit(train_generator, epochs=epochs)"
   ]
  },
  {
   "cell_type": "code",
   "execution_count": null,
   "id": "09af1b1d",
   "metadata": {},
   "outputs": [],
   "source": []
  },
  {
   "cell_type": "code",
   "execution_count": 17,
   "id": "f74e453b",
   "metadata": {},
   "outputs": [
    {
     "name": "stdout",
     "output_type": "stream",
     "text": [
      "3/3 [==============================] - 2s 484ms/step - loss: 20.9366 - accuracy: 0.7727\n",
      "Test Loss: 20.936565399169922, Test Accuracy: 0.7727272510528564\n"
     ]
    }
   ],
   "source": [
    "# Assuming you have a separate test set\n",
    "test_loss, test_accuracy = model.evaluate(test_data, test_labels)\n",
    "print(f'Test Loss: {test_loss}, Test Accuracy: {test_accuracy}')\n"
   ]
  },
  {
   "cell_type": "code",
   "execution_count": 18,
   "id": "22dc501f",
   "metadata": {},
   "outputs": [
    {
     "name": "stdout",
     "output_type": "stream",
     "text": [
      "3/3 [==============================] - 1s 440ms/step - loss: 17.2507 - accuracy: 0.7324\n",
      "New Data Loss: 17.250747680664062, New Data Accuracy: 0.7323943376541138\n"
     ]
    }
   ],
   "source": [
    "# Assuming you have new, unseen data\n",
    "new_loss, new_accuracy = model.evaluate(val_data, val_labels)\n",
    "print(f'New Data Loss: {new_loss}, New Data Accuracy: {new_accuracy}')\n"
   ]
  },
  {
   "cell_type": "code",
   "execution_count": 19,
   "id": "2a55b897",
   "metadata": {},
   "outputs": [
    {
     "name": "stdout",
     "output_type": "stream",
     "text": [
      "3/3 [==============================] - 1s 137ms/step\n"
     ]
    }
   ],
   "source": [
    "predictions = model.predict(test_data)"
   ]
  },
  {
   "cell_type": "code",
   "execution_count": 20,
   "id": "84c12168",
   "metadata": {},
   "outputs": [
    {
     "name": "stdout",
     "output_type": "stream",
     "text": [
      "Precision: 1.0000\n",
      "Recall: 0.0000\n",
      "F1 Score: 0.0000\n"
     ]
    }
   ],
   "source": [
    "# Convert predictions to binary (0 or 1)\n",
    "binary_predictions = (predictions > 0.5).astype(int)\n",
    "\n",
    "# Calculate additional metrics\n",
    "from sklearn.metrics import precision_score, recall_score, f1_score\n",
    "\n",
    "# Set zero_division parameter to control behavior\n",
    "precision = precision_score(test_labels, binary_predictions, zero_division=1)\n",
    "recall = recall_score(test_labels, binary_predictions, zero_division=1)\n",
    "f1 = f1_score(test_labels, binary_predictions, zero_division=1)\n",
    "\n",
    "print(f\"Precision: {precision:.4f}\")\n",
    "print(f\"Recall: {recall:.4f}\")\n",
    "print(f\"F1 Score: {f1:.4f}\")"
   ]
  },
  {
   "cell_type": "code",
   "execution_count": 21,
   "id": "fa9788f4",
   "metadata": {},
   "outputs": [
    {
     "data": {
      "text/plain": [
       "array([[5.2338575e-13],\n",
       "       [1.4719770e-26],\n",
       "       [1.5732139e-31],\n",
       "       [0.0000000e+00],\n",
       "       [4.9363641e-17],\n",
       "       [2.3047786e-21],\n",
       "       [0.0000000e+00],\n",
       "       [2.9108491e-12],\n",
       "       [0.0000000e+00],\n",
       "       [0.0000000e+00],\n",
       "       [5.1135057e-38],\n",
       "       [0.0000000e+00],\n",
       "       [6.3576591e-20],\n",
       "       [0.0000000e+00],\n",
       "       [0.0000000e+00],\n",
       "       [1.6981828e-10],\n",
       "       [4.5884235e-07],\n",
       "       [0.0000000e+00],\n",
       "       [8.8824080e-11],\n",
       "       [0.0000000e+00],\n",
       "       [1.5186524e-16],\n",
       "       [0.0000000e+00],\n",
       "       [0.0000000e+00],\n",
       "       [0.0000000e+00],\n",
       "       [4.0400674e-04],\n",
       "       [5.4523506e-04],\n",
       "       [2.2799650e-33],\n",
       "       [0.0000000e+00],\n",
       "       [0.0000000e+00],\n",
       "       [3.0254421e-06],\n",
       "       [7.7870873e-16],\n",
       "       [0.0000000e+00],\n",
       "       [0.0000000e+00],\n",
       "       [0.0000000e+00],\n",
       "       [2.1493531e-23],\n",
       "       [0.0000000e+00],\n",
       "       [7.6709329e-21],\n",
       "       [1.6261292e-22],\n",
       "       [1.9673613e-22],\n",
       "       [0.0000000e+00],\n",
       "       [5.0209416e-14],\n",
       "       [2.8060240e-23],\n",
       "       [3.9792583e-05],\n",
       "       [2.6826698e-01],\n",
       "       [7.9830199e-02],\n",
       "       [3.6040849e-12],\n",
       "       [2.6978117e-03],\n",
       "       [0.0000000e+00],\n",
       "       [5.2379771e-11],\n",
       "       [0.0000000e+00],\n",
       "       [0.0000000e+00],\n",
       "       [1.8722841e-30],\n",
       "       [9.5563661e-03],\n",
       "       [2.7780561e-30],\n",
       "       [0.0000000e+00],\n",
       "       [0.0000000e+00],\n",
       "       [3.7062740e-32],\n",
       "       [5.2622837e-36],\n",
       "       [0.0000000e+00],\n",
       "       [1.7815501e-23],\n",
       "       [2.3885884e-34],\n",
       "       [0.0000000e+00],\n",
       "       [0.0000000e+00],\n",
       "       [8.8872680e-38],\n",
       "       [0.0000000e+00],\n",
       "       [0.0000000e+00],\n",
       "       [6.1457446e-03],\n",
       "       [2.8595675e-08],\n",
       "       [0.0000000e+00],\n",
       "       [0.0000000e+00],\n",
       "       [0.0000000e+00],\n",
       "       [4.5238405e-30],\n",
       "       [0.0000000e+00],\n",
       "       [8.8711988e-26],\n",
       "       [0.0000000e+00],\n",
       "       [1.2132488e-06],\n",
       "       [0.0000000e+00],\n",
       "       [0.0000000e+00],\n",
       "       [0.0000000e+00],\n",
       "       [1.4621692e-07],\n",
       "       [5.1086278e-17],\n",
       "       [3.9697833e-38],\n",
       "       [1.8543781e-04],\n",
       "       [2.3221120e-35],\n",
       "       [0.0000000e+00],\n",
       "       [1.7658282e-28],\n",
       "       [3.9012213e-03],\n",
       "       [1.1653394e-13]], dtype=float32)"
      ]
     },
     "execution_count": 21,
     "metadata": {},
     "output_type": "execute_result"
    }
   ],
   "source": [
    "predictions"
   ]
  },
  {
   "cell_type": "code",
   "execution_count": 22,
   "id": "5c5526f2",
   "metadata": {
    "scrolled": true
   },
   "outputs": [
    {
     "data": {
      "text/plain": [
       "array([[0],\n",
       "       [0],\n",
       "       [0],\n",
       "       [0],\n",
       "       [0],\n",
       "       [0],\n",
       "       [0],\n",
       "       [0],\n",
       "       [0],\n",
       "       [0],\n",
       "       [0],\n",
       "       [0],\n",
       "       [0],\n",
       "       [0],\n",
       "       [0],\n",
       "       [0],\n",
       "       [0],\n",
       "       [0],\n",
       "       [0],\n",
       "       [0],\n",
       "       [0],\n",
       "       [0],\n",
       "       [0],\n",
       "       [0],\n",
       "       [0],\n",
       "       [0],\n",
       "       [0],\n",
       "       [0],\n",
       "       [0],\n",
       "       [0],\n",
       "       [0],\n",
       "       [0],\n",
       "       [0],\n",
       "       [0],\n",
       "       [0],\n",
       "       [0],\n",
       "       [0],\n",
       "       [0],\n",
       "       [0],\n",
       "       [0],\n",
       "       [0],\n",
       "       [0],\n",
       "       [0],\n",
       "       [0],\n",
       "       [0],\n",
       "       [0],\n",
       "       [0],\n",
       "       [0],\n",
       "       [0],\n",
       "       [0],\n",
       "       [0],\n",
       "       [0],\n",
       "       [0],\n",
       "       [0],\n",
       "       [0],\n",
       "       [0],\n",
       "       [0],\n",
       "       [0],\n",
       "       [0],\n",
       "       [0],\n",
       "       [0],\n",
       "       [0],\n",
       "       [0],\n",
       "       [0],\n",
       "       [0],\n",
       "       [0],\n",
       "       [0],\n",
       "       [0],\n",
       "       [0],\n",
       "       [0],\n",
       "       [0],\n",
       "       [0],\n",
       "       [0],\n",
       "       [0],\n",
       "       [0],\n",
       "       [0],\n",
       "       [0],\n",
       "       [0],\n",
       "       [0],\n",
       "       [0],\n",
       "       [0],\n",
       "       [0],\n",
       "       [0],\n",
       "       [0],\n",
       "       [0],\n",
       "       [0],\n",
       "       [0],\n",
       "       [0]])"
      ]
     },
     "execution_count": 22,
     "metadata": {},
     "output_type": "execute_result"
    }
   ],
   "source": [
    "binary_predictions"
   ]
  },
  {
   "cell_type": "code",
   "execution_count": null,
   "id": "7719d527",
   "metadata": {},
   "outputs": [],
   "source": []
  },
  {
   "cell_type": "code",
   "execution_count": 23,
   "id": "85b81b20",
   "metadata": {},
   "outputs": [
    {
     "name": "stdout",
     "output_type": "stream",
     "text": [
      "3/3 [==============================] - 0s 135ms/step\n"
     ]
    }
   ],
   "source": [
    "val_predictions = model.predict(val_data)"
   ]
  },
  {
   "cell_type": "code",
   "execution_count": 24,
   "id": "d4c2e019",
   "metadata": {
    "scrolled": false
   },
   "outputs": [
    {
     "name": "stdout",
     "output_type": "stream",
     "text": [
      "Precision: 1.0000\n",
      "Recall: 0.0000\n",
      "F1 Score: 0.0000\n"
     ]
    }
   ],
   "source": [
    "# Convert predictions to binary (0 or 1)\n",
    "val_binary_predictions = (val_predictions > 0.5).astype(int)\n",
    "\n",
    "# Calculate additional metrics\n",
    "from sklearn.metrics import precision_score, recall_score, f1_score\n",
    "\n",
    "# Set zero_division parameter to control behavior\n",
    "precision = precision_score(val_labels, val_binary_predictions, zero_division=1)\n",
    "recall = recall_score(val_labels, val_binary_predictions, zero_division=1)\n",
    "f1 = f1_score(val_labels, val_binary_predictions, zero_division=1)\n",
    "\n",
    "print(f\"Precision: {precision:.4f}\")\n",
    "print(f\"Recall: {recall:.4f}\")\n",
    "print(f\"F1 Score: {f1:.4f}\")"
   ]
  },
  {
   "cell_type": "code",
   "execution_count": 25,
   "id": "cd7d5e10",
   "metadata": {
    "scrolled": true
   },
   "outputs": [
    {
     "data": {
      "text/plain": [
       "array([[0],\n",
       "       [0],\n",
       "       [0],\n",
       "       [0],\n",
       "       [0],\n",
       "       [0],\n",
       "       [0],\n",
       "       [0],\n",
       "       [0],\n",
       "       [0],\n",
       "       [0],\n",
       "       [0],\n",
       "       [0],\n",
       "       [0],\n",
       "       [0],\n",
       "       [0],\n",
       "       [0],\n",
       "       [0],\n",
       "       [0],\n",
       "       [0],\n",
       "       [0],\n",
       "       [0],\n",
       "       [0],\n",
       "       [0],\n",
       "       [0],\n",
       "       [0],\n",
       "       [0],\n",
       "       [0],\n",
       "       [0],\n",
       "       [0],\n",
       "       [0],\n",
       "       [0],\n",
       "       [0],\n",
       "       [0],\n",
       "       [0],\n",
       "       [0],\n",
       "       [0],\n",
       "       [0],\n",
       "       [0],\n",
       "       [0],\n",
       "       [0],\n",
       "       [0],\n",
       "       [0],\n",
       "       [0],\n",
       "       [0],\n",
       "       [0],\n",
       "       [0],\n",
       "       [0],\n",
       "       [0],\n",
       "       [0],\n",
       "       [0],\n",
       "       [0],\n",
       "       [0],\n",
       "       [0],\n",
       "       [0],\n",
       "       [0],\n",
       "       [0],\n",
       "       [0],\n",
       "       [0],\n",
       "       [0],\n",
       "       [0],\n",
       "       [0],\n",
       "       [0],\n",
       "       [0],\n",
       "       [0],\n",
       "       [0],\n",
       "       [0],\n",
       "       [0],\n",
       "       [0],\n",
       "       [0],\n",
       "       [0]])"
      ]
     },
     "execution_count": 25,
     "metadata": {},
     "output_type": "execute_result"
    }
   ],
   "source": [
    "val_binary_predictions"
   ]
  },
  {
   "cell_type": "code",
   "execution_count": 26,
   "id": "93f5356e",
   "metadata": {},
   "outputs": [
    {
     "name": "stdout",
     "output_type": "stream",
     "text": [
      "Confusion Matrix:\n",
      "[[52  0]\n",
      " [19  0]]\n"
     ]
    }
   ],
   "source": [
    "import numpy as np\n",
    "from sklearn.metrics import confusion_matrix, roc_curve, auc\n",
    "import matplotlib.pyplot as plt\n",
    "\n",
    "# Threshold for classification\n",
    "threshold = 0.5\n",
    "\n",
    "# Confusion Matrix\n",
    "cm = confusion_matrix(val_labels, val_binary_predictions)\n",
    "print(\"Confusion Matrix:\")\n",
    "print(cm)\n"
   ]
  },
  {
   "cell_type": "code",
   "execution_count": 27,
   "id": "7348b705",
   "metadata": {},
   "outputs": [
    {
     "name": "stdout",
     "output_type": "stream",
     "text": [
      "Confusion Matrix:\n",
      "   | Predicted 0 1\n",
      "Actual 0 52 0\n",
      "Actual 1 19 0\n",
      "\n",
      "Precision: nan\n",
      "Recall: 0.0000\n",
      "Accuracy: 0.7324\n"
     ]
    },
    {
     "name": "stderr",
     "output_type": "stream",
     "text": [
      "/var/folders/cx/j2xpz55130d9v1842sdn43dw0000gn/T/ipykernel_53996/4020424974.py:18: RuntimeWarning: invalid value encountered in scalar divide\n",
      "  precision = tp / (tp + fp)\n"
     ]
    }
   ],
   "source": [
    "import numpy as np\n",
    "from sklearn.metrics import confusion_matrix, roc_curve, auc\n",
    "import matplotlib.pyplot as plt\n",
    "\n",
    "# Threshold for classification\n",
    "threshold = 0.5\n",
    "\n",
    "# Generate confusion matrix\n",
    "cm = confusion_matrix(val_labels, val_binary_predictions)\n",
    "\n",
    "# Function to print confusion matrix in table format\n",
    "def print_confusion_matrix(cm):\n",
    "  # Get labels from true and predicted labels\n",
    "  labels = np.unique(np.concatenate((val_labels, val_binary_predictions)))\n",
    "\n",
    "  # Calculate class-specific metrics\n",
    "  tn, fp, fn, tp = cm.ravel()\n",
    "  precision = tp / (tp + fp)\n",
    "  recall = tp / (tp + fn)\n",
    "  accuracy = (tp + tn) / (tp + tn + fp + fn)\n",
    "\n",
    "  # Print header row\n",
    "  print(\"Confusion Matrix:\")\n",
    "  print(\"   | Predicted\", *labels)\n",
    "\n",
    "  # Print rows with actual labels and counts\n",
    "  for i, label in enumerate(labels):\n",
    "    row = [f\"Actual {label}\"] + cm[i].tolist()\n",
    "    print(*row)\n",
    "\n",
    "  # Print class-specific metrics\n",
    "  print(f\"\\nPrecision: {precision:.4f}\")\n",
    "  print(f\"Recall: {recall:.4f}\")\n",
    "  print(f\"Accuracy: {accuracy:.4f}\")\n",
    "\n",
    "# Print confusion matrix table\n",
    "print_confusion_matrix(cm)"
   ]
  },
  {
   "cell_type": "code",
   "execution_count": 28,
   "id": "52ba2dfe",
   "metadata": {},
   "outputs": [
    {
     "data": {
      "image/png": "[encoded data removed]",
      "text/plain": [
       "<Figure size 800x600 with 1 Axes>"
      ]
     },
     "metadata": {},
     "output_type": "display_data"
    }
   ],
   "source": [
    "\n",
    "# ROC Curve\n",
    "fpr, tpr, thresholds = roc_curve(val_labels, val_binary_predictions)\n",
    "roc_auc = auc(fpr, tpr)\n",
    "\n",
    "# Plot ROC Curve\n",
    "plt.figure(figsize=(8, 6))\n",
    "plt.plot(fpr, tpr, color='darkorange', lw=2, label='ROC curve (area = {:.2f})'.format(roc_auc))\n",
    "plt.plot([0, 1], [0, 1], color='navy', lw=2, linestyle='--')\n",
    "plt.xlabel('False Positive Rate')\n",
    "plt.ylabel('True Positive Rate')\n",
    "plt.title('Receiver Operating Characteristic (ROC) Curve')\n",
    "plt.legend(loc='lower right')\n",
    "plt.show()"
   ]
  }
 ],
 "metadata": {
  "kernelspec": {
   "display_name": "Python 3 (ipykernel)",
   "language": "python",
   "name": "python3"
  },
  "language_info": {
   "codemirror_mode": {
    "name": "ipython",
    "version": 3
   },
   "file_extension": ".py",
   "mimetype": "text/x-python",
   "name": "python",
   "nbconvert_exporter": "python",
   "pygments_lexer": "ipython3",
   "version": "3.11.5"
  }
 },
 "nbformat": 4,
 "nbformat_minor": 5
}
